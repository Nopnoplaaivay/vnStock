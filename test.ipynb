{
 "cells": [
  {
   "cell_type": "code",
   "execution_count": 1,
   "metadata": {},
   "outputs": [],
   "source": [
    "from vnstock import *\n",
    "from datetime import date, datetime, timedelta\n",
    "from vnstock.chart import *\n",
    "import plotly.io as pio\n",
    "import pandas as pd\n",
    "import matplotlib.pyplot as plt\n",
    "import matplotlib.animation as animation\n",
    "from matplotlib.gridspec import GridSpec\n",
    "import matplotlib.ticker as mticker\n",
    "from mplfinance.original_flavor import candlestick_ochl\n",
    "import math\n",
    "from matplotlib.dates import date2num\n",
    "from matplotlib.dates import DateFormatter, MonthLocator\n",
    "from mplfinance.original_flavor import candlestick_ohlc"
   ]
  },
  {
   "cell_type": "code",
   "execution_count": null,
   "metadata": {},
   "outputs": [],
   "source": [
    "stock_codes = ['VCG', 'HSG', 'SSI', 'MWG', 'GIL', 'DXG']"
   ]
  },
  {
   "cell_type": "code",
   "execution_count": 36,
   "metadata": {},
   "outputs": [],
   "source": [
    "df = pd.read_csv('./Data/GIL.csv', index_col='time')\n",
    "df = df[['ticker', 'open', 'high', 'low', 'close' ,'latest_change', 'volume']]\n",
    "df['date'] = df.index\n",
    "\n",
    "df = df[~df.index.duplicated(keep='first')]\n"
   ]
  },
  {
   "cell_type": "code",
   "execution_count": 43,
   "metadata": {},
   "outputs": [],
   "source": [
    "def read_data_ohlc(filepath):\n",
    "\n",
    "    ## READ FILE\n",
    "    df = pd.read_csv(filepath, index_col='time')\n",
    "    df = df[~df.index.duplicated(keep='first')]\n",
    "\n",
    "    df = df[['ticker', 'open', 'high', 'low', 'close' ,'latest_change', 'volume']]\n",
    "    df['date'] = df.index\n",
    "    df.index = pd.DatetimeIndex(df.index)\n",
    "    df['MA20'] = df['close'].rolling(20).mean()\n",
    "    df['MA50'] = df['close'].rolling(50).mean()\n",
    "    df['MA200'] = df['close'].rolling(200).mean()\n",
    "    try: \n",
    "        df['RSI'] = compute_RSI(df['close'], 14)\n",
    "        print(\"GET RSI SUNCCESSFUL!\")\n",
    "    except:\n",
    "        print(\"ERROR! GET RSI UNSUCCESSFUL\")\n",
    "\n",
    "    latest_info = df.iloc[-1, :]\n",
    "    latest_price = latest_info['close']\n",
    "    latest_change = str(latest_info['latest_change'])\\\n",
    "        if (latest_info['latest_change'][0] == '-') else '+' + str(latest_info['latest_change'])\n",
    "    latest_volume = latest_info['volume']\n",
    "\n",
    "    return df, latest_price, latest_change, latest_volume"
   ]
  },
  {
   "cell_type": "code",
   "execution_count": 44,
   "metadata": {},
   "outputs": [
    {
     "name": "stdout",
     "output_type": "stream",
     "text": [
      "GET RSI SUNCCESSFUL!\n"
     ]
    },
    {
     "data": {
      "text/plain": [
       "(           ticker   open   high    low  close     latest_change   volume  \\\n",
       " time                                                                       \n",
       " 2022-01-05    GIL  56370  59620  55950  59280     3250.0 (5.8%)   753100   \n",
       " 2022-01-06    GIL  59700  60640  58940  59540     260.0 (0.44%)   693600   \n",
       " 2022-01-07    GIL  59280  59540  58090  58940   -600.0 (-1.01%)   209900   \n",
       " 2022-01-10    GIL  58090  60730  56970  58940        0.0 (0.0%)   627600   \n",
       " 2022-01-11    GIL  59190  59790  57230  58250   -690.0 (-1.17%)   272300   \n",
       " ...           ...    ...    ...    ...    ...               ...      ...   \n",
       " 2023-10-24    GIL  27300  27850  27100  27850     550.0 (2.01%)   358400   \n",
       " 2023-10-25    GIL  28200  28350  27600  27700   -150.0 (-0.54%)   382600   \n",
       " 2023-10-26    GIL  27200  27200  25800  25800  -1900.0 (-6.86%)   859000   \n",
       " 2023-10-27    GIL  25300  25900  24000  24700  -1100.0 (-4.26%)  1286600   \n",
       " 2023-10-30    GIL  24700  25000  23900  23900   -800.0 (-3.24%)   266800   \n",
       " \n",
       "                   date      MA20      MA50      MA200        RSI  \n",
       " time                                                              \n",
       " 2022-01-05  2022-01-05       NaN       NaN        NaN        NaN  \n",
       " 2022-01-06  2022-01-06       NaN       NaN        NaN        NaN  \n",
       " 2022-01-07  2022-01-07       NaN       NaN        NaN        NaN  \n",
       " 2022-01-10  2022-01-10       NaN       NaN        NaN        NaN  \n",
       " 2022-01-11  2022-01-11       NaN       NaN        NaN        NaN  \n",
       " ...                ...       ...       ...        ...        ...  \n",
       " 2023-10-24  2023-10-24  30957.45  31149.92  25684.725  37.752213  \n",
       " 2023-10-25  2023-10-25  30742.45  31099.92  25725.225  37.282343  \n",
       " 2023-10-26  2023-10-26  30439.95  31005.92  25756.725  31.871288  \n",
       " 2023-10-27  2023-10-27  30079.95  30897.92  25780.225  29.226564  \n",
       " 2023-10-30  2023-10-30  29642.45  30789.92  25803.475  27.442979  \n",
       " \n",
       " [453 rows x 12 columns],\n",
       " 23900,\n",
       " '-800.0 (-3.24%)',\n",
       " 266800)"
      ]
     },
     "execution_count": 44,
     "metadata": {},
     "output_type": "execute_result"
    }
   ],
   "source": [
    "data_ohlc = read_data_ohlc('./Data/GIL.csv')\n",
    "data_ohlc"
   ]
  },
  {
   "cell_type": "code",
   "execution_count": 4,
   "metadata": {},
   "outputs": [],
   "source": [
    "def combine_columns(row):\n",
    "    return f\"{row['change']} ({row['%_change']}%)\""
   ]
  },
  {
   "cell_type": "code",
   "execution_count": 5,
   "metadata": {},
   "outputs": [],
   "source": [
    "# Lấy dữ liệu cổ phiếu\n",
    "\n",
    "def real_time_stock(stock_code):\n",
    "    time_stamp = datetime.now().strftime('%Y-%m-%d %H:%M:%S')\n",
    "    stock_hist = stock_historical_data(stock_code, \"2022-01-01\",\n",
    "                                         str(date.today()), \"1D\", \"stock\")\n",
    "    stock_hist[\"%_change\"] = round(((stock_hist['close'] - stock_hist['close'].shift(1))\n",
    "                                    / stock_hist['close'].shift(1)) * 100, 2)\n",
    "    stock_hist['change'] = (stock_hist['close'] - stock_hist['close'].shift(1))\n",
    "    stock_hist['latest_change'] = stock_hist.apply(combine_columns, axis=1)\n",
    "    data = stock_hist.iloc[-1]\n",
    "    # return (str(time_stamp), data['close'], data['volume'], data['%_change'], data['change'])\n",
    "    return stock_hist"
   ]
  },
  {
   "cell_type": "code",
   "execution_count": null,
   "metadata": {},
   "outputs": [],
   "source": [
    "for stock in stock_codes:\n",
    "  stock_data = real_time_stock(stock)\n",
    "  index_with_nan = stock_data.index[stock_data.isnull().any(axis=1)]\n",
    "  stock_data.drop(index_with_nan, inplace=True)\n",
    "  stock_data.to_csv(f'{stock}.csv', index=False, header=True)\n",
    "  print(stock_data)"
   ]
  },
  {
   "cell_type": "code",
   "execution_count": null,
   "metadata": {},
   "outputs": [],
   "source": [
    "# Vẽ biểu đồ\n",
    "\n",
    "def real_time_chart(stock_code):\n",
    "    stock = stock_historical_data(stock_code, \"2022-01-01\", str(date.today()), \"1D\", \"stock\")\n",
    "    fig = candlestick_chart(stock, ma_periods=[20, 50, 200], show_volume=True, reference_period=300, figure_size=(15, 8), \n",
    "                        title=f'{stock_code} - Candlestick Chart with MA and Volume', x_label='Date', y_label='Price', \n",
    "                        colors=('lightgray', 'gray'), reference_colors=('black', 'blue'))\n",
    "    # pio.write_image(fig, 'plot.png')\n",
    "    fig.show()"
   ]
  },
  {
   "cell_type": "code",
   "execution_count": null,
   "metadata": {},
   "outputs": [],
   "source": [
    "# real_time_chart('VHC')\n",
    "stock = stock_historical_data('VHC', \"2022-01-01\", str(date.today()), \"1D\", \"stock\")\n",
    "stock"
   ]
  },
  {
   "cell_type": "code",
   "execution_count": null,
   "metadata": {},
   "outputs": [],
   "source": [
    "fig = candlestick_chart(stock, ma_periods=[20, 50, 200], show_volume=True, reference_period=300, figure_size=(15, 8), \n",
    "                    title=f'VHC - Candlestick Chart with MA and Volume', x_label='Date', y_label='Price', \n",
    "                    colors=('lightgray', 'gray'), reference_colors=('black', 'blue'))\n",
    "fig.show()"
   ]
  }
 ],
 "metadata": {
  "kernelspec": {
   "display_name": "venv",
   "language": "python",
   "name": "python3"
  },
  "language_info": {
   "codemirror_mode": {
    "name": "ipython",
    "version": 3
   },
   "file_extension": ".py",
   "mimetype": "text/x-python",
   "name": "python",
   "nbconvert_exporter": "python",
   "pygments_lexer": "ipython3",
   "version": "3.11.4"
  }
 },
 "nbformat": 4,
 "nbformat_minor": 2
}
